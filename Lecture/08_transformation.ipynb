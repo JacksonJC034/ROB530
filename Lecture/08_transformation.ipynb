{
 "cells": [
  {
   "cell_type": "markdown",
   "metadata": {
    "slideshow": {
     "slide_type": "slide"
    }
   },
   "source": [
    "# Linear Transformation\n",
    "\n",
    "### Learning Objectives\n",
    "- Seeing matrices as linear transformations and their properties.\n",
    "- Examples of linear transforms."
   ]
  },
  {
   "cell_type": "markdown",
   "metadata": {
    "slideshow": {
     "slide_type": "slide"
    }
   },
   "source": [
    "### Outcomes\n",
    "- Verifying if a transformation is linear.\n",
    "- Using matrices as linear transformation."
   ]
  },
  {
   "cell_type": "markdown",
   "metadata": {
    "slideshow": {
     "slide_type": "slide"
    }
   },
   "source": [
    "### Linear Transformation \n",
    "\n",
    "We can think of a matrix as a linear transformation. Because when a matrix such as $T$ acts on a vector such as $a$, it satisfies two properties required for a transformation to be linear. These properties are:\n",
    "\n",
    "1. For any vectors $a$ and $b$, we have $T(a + b) = T(a) + T(b)$.\n",
    "\n",
    "2. For any scalar $c$, $T(c a) = cT(a)$.\n",
    "\n",
    "Let's verify these properties."
   ]
  },
  {
   "cell_type": "code",
   "execution_count": 17,
   "metadata": {},
   "outputs": [
    {
     "name": "stdout",
     "output_type": "stream",
     "text": [
      "[5 5] [5 5] True\n"
     ]
    }
   ],
   "source": [
    "import numpy as np\n",
    "\n",
    "T = np.array([[1, 2], [-1, 3]])\n",
    "a = np.array([-1, 1])\n",
    "b = np.array([2, 1])\n",
    "c = 2\n",
    "\n",
    "x1 = np.dot(T, a + b)\n",
    "x2 = np.dot(T, a) + np.dot(T, b)\n",
    "result = np.array_equal(x1,x2)\n",
    "print(x1,x2,result)"
   ]
  },
  {
   "cell_type": "code",
   "execution_count": 18,
   "metadata": {},
   "outputs": [
    {
     "name": "stdout",
     "output_type": "stream",
     "text": [
      "[2 8] [2 8] True\n"
     ]
    }
   ],
   "source": [
    "y1 = np.dot(T, c * a)\n",
    "y2 = c * np.dot(T, a)\n",
    "result = np.array_equal(y1,y2)\n",
    "print(y1,y2,result)"
   ]
  },
  {
   "cell_type": "markdown",
   "metadata": {
    "slideshow": {
     "slide_type": "slide"
    }
   },
   "source": [
    "Now it is fair to ask that what are some of interesting linear transformations? \n",
    "The following examples of linear transforms are frequently used in mathematics and engineering:\n",
    "* Scaling\n",
    "* Reflection \n",
    "* Projection\n",
    "* Shear\n",
    "* Rotation\n",
    "\n",
    "Notice that a linear transformation maps the zero vector to itself. In other words, the *orgin* remains fixed. In this sense, a *translation* map is not a linear map. Why? Let's see if it satifies two properties of the linear transformation."
   ]
  },
  {
   "cell_type": "markdown",
   "metadata": {
    "slideshow": {
     "slide_type": "slide"
    }
   },
   "source": [
    "A translation map using a vector $t$ takes this form $a \\mapsto a + t$. Therefore, we can write $T(a) = a + t$. Notice that this transformation is not a matrix!"
   ]
  },
  {
   "cell_type": "markdown",
   "metadata": {
    "slideshow": {
     "slide_type": "fragment"
    }
   },
   "source": [
    "1. $T(a + b) = a + b + t \\neq a + b + 2t = T(a) + T(b)$. So a translation fails to satisfy the first property and, therefore, is not a linear map.\n",
    "\n",
    "2. $T(ca) = ca + t \\neq ca + ct = cT(a)$. It also fails to satisfy the second property. "
   ]
  },
  {
   "cell_type": "markdown",
   "metadata": {
    "slideshow": {
     "slide_type": "fragment"
    }
   },
   "source": [
    "**Quiz:** The *indentity matrix* is a *square matrix* with $1$ on its *diagonal entries* and $0$ on all *off-diagonal entris*. Prove that the identity matrix (transformation) is a linear map."
   ]
  },
  {
   "cell_type": "markdown",
   "metadata": {
    "slideshow": {
     "slide_type": "slide"
    }
   },
   "source": [
    "### Scaling"
   ]
  },
  {
   "cell_type": "code",
   "execution_count": 19,
   "metadata": {},
   "outputs": [
    {
     "data": {
      "image/png": "[encoded data removed]",
      "text/plain": [
       "<Figure size 432x288 with 1 Axes>"
      ]
     },
     "metadata": {
      "needs_background": "light"
     },
     "output_type": "display_data"
    }
   ],
   "source": [
    "import matplotlib.pyplot as plt\n",
    "\n",
    "s = 2\n",
    "A = np.array([[s, 0], [0, s]])  \n",
    "\n",
    "x0, y0 = 0, 0  \n",
    "v = np.array([1, 1]) \n",
    "\n",
    "# Initial vector in blue\n",
    "plt.quiver(x0, y0, v[0], v[1], angles='xy', scale_units='xy', scale=1, color='b', width=0.015)\n",
    "\n",
    "# Apply the scaling, color changed to red\n",
    "u = np.dot(A, v)\n",
    "plt.quiver(x0, y0, u[0], u[1], angles='xy', scale_units='xy', scale=1, color='r', width=0.01)  # thinner line\n",
    "\n",
    "# Set the plot settings\n",
    "plt.xlim(-1, 3)\n",
    "plt.ylim(-1, 3)\n",
    "plt.grid()\n",
    "plt.gca().set_aspect('equal', adjustable='box')\n",
    "\n",
    "plt.title('Scaling')\n",
    "plt.show()"
   ]
  },
  {
   "cell_type": "markdown",
   "metadata": {
    "slideshow": {
     "slide_type": "slide"
    }
   },
   "source": [
    "<img src=\"https://github.com/kjbiener/introToJulia/blob/master/scaling.png?raw=true\" alt=\"scaling\" width=\"300\">"
   ]
  },
  {
   "cell_type": "markdown",
   "metadata": {
    "slideshow": {
     "slide_type": "fragment"
    }
   },
   "source": [
    "Let's have a closer look into what just happened! For scaling we defined $A = \\begin{bmatrix} s & 0 \\\\ 0 & s \\end{bmatrix}$ and $v = \\begin{bmatrix} 1 \\\\ 1 \\end{bmatrix}$. Then we computed $u$ via the action of $A$ on $v$; that is\n",
    "\\begin{align*}\n",
    "    u = A v = \\begin{bmatrix} s & 0 \\\\ 0 & s \\end{bmatrix} \\begin{bmatrix} 1 \\\\ 1 \\end{bmatrix} = \\begin{bmatrix} s \\cdot 1 + 0 \\cdot 1 \\\\ 0 \\cdot 1 + s \\cdot 1 \\end{bmatrix} = \\begin{bmatrix} s \\\\ s \\end{bmatrix}.\n",
    "\\end{align*}\n",
    "With $s=2$, we get $u = \\begin{bmatrix} 2 \\\\ 2 \\end{bmatrix}$."
   ]
  },
  {
   "cell_type": "markdown",
   "metadata": {
    "slideshow": {
     "slide_type": "slide"
    }
   },
   "source": [
    "Recall that to multiply a matrix by a vector we use\n",
    "\\begin{align*}\n",
    "    Av = \\begin{bmatrix} a_{11} & a_{12} \\\\ a_{21} & a_{22} \\end{bmatrix} \\begin{bmatrix} v_1 \\\\ v_2 \\end{bmatrix} = \\begin{bmatrix} a_{11} \\cdot v_1 + a_{12} \\cdot v_2 \\\\ a_{21} \\cdot v_1 + a_{22} \\cdot v_2 \\end{bmatrix} = \\begin{bmatrix} a_{11} \\\\ a_{21} \\end{bmatrix} v_1 + \\begin{bmatrix} a_{12} \\\\ a_{22} \\end{bmatrix} v_2.\n",
    "\\end{align*}\n",
    "\n",
    "In other words, the application of a $m \\times n$ matrix on a $n \\times 1$ vector (called $n$-vector) results in the weighted sum of the matrix columns. The weights from the vector entries have the corresponding index with the matrix columns."
   ]
  },
  {
   "cell_type": "markdown",
   "metadata": {
    "slideshow": {
     "slide_type": "slide"
    }
   },
   "source": [
    "### Rotation"
   ]
  },
  {
   "cell_type": "code",
   "execution_count": 20,
   "metadata": {},
   "outputs": [
    {
     "data": {
      "image/png": "[encoded data removed]",
      "text/plain": [
       "<Figure size 432x288 with 1 Axes>"
      ]
     },
     "metadata": {
      "needs_background": "light"
     },
     "output_type": "display_data"
    }
   ],
   "source": [
    "theta = np.pi / 4  # 45 degree rotation\n",
    "\n",
    "# 2D rotation matrix\n",
    "R = np.array([[np.cos(theta), -np.sin(theta)], \n",
    "              [np.sin(theta), np.cos(theta)]])\n",
    "\n",
    "v = np.array([1, 0])  # initial vector\n",
    "\n",
    "# Apply the rotation\n",
    "u = np.dot(R, v)\n",
    "\n",
    "x0, y0 = 0, 0  # origin point\n",
    "\n",
    "# Initial vector (blue)\n",
    "plt.quiver(x0, y0, v[0], v[1], angles='xy', scale_units='xy', scale=1, color='b', width=0.01)\n",
    "\n",
    "# Rotated vector (red and thinner)\n",
    "plt.quiver(x0, y0, u[0], u[1], angles='xy', scale_units='xy', scale=1, color='r', width=0.01)\n",
    "\n",
    "plt.xlim(-1, 2)\n",
    "plt.ylim(-1, 2)\n",
    "plt.grid()\n",
    "plt.gca().set_aspect('equal', adjustable='box')\n",
    "\n",
    "plt.title('Rotation')\n",
    "plt.show()"
   ]
  },
  {
   "cell_type": "markdown",
   "metadata": {
    "slideshow": {
     "slide_type": "slide"
    }
   },
   "source": [
    "<img src=\"https://github.com/kjbiener/introToJulia/blob/master/rotation_2d.png?raw=true\" alt=\"Rotation\" width=\"300\">"
   ]
  },
  {
   "cell_type": "markdown",
   "metadata": {
    "slideshow": {
     "slide_type": "fragment"
    }
   },
   "source": [
    "Similarly for the rotation example we have\n",
    "\\begin{align*}\n",
    "    R v = \\begin{bmatrix} \\cos(\\theta) & -\\sin(\\theta) \\\\ \\sin(\\theta) & \\cos(\\theta) \\end{bmatrix} \\begin{bmatrix} v_1 \\\\ v_2 \\end{bmatrix} = \\begin{bmatrix} \\cos(\\theta) \\cdot v_1 - \\sin(\\theta) \\cdot v_2 \\\\ \\sin(\\theta) \\cdot v_1 + \\cos(\\theta) \\cdot v_2 \\end{bmatrix} = \\begin{bmatrix} \\cos(\\theta) \\\\ \\sin(\\theta) \\end{bmatrix} v_1 + \\begin{bmatrix} -\\sin(\\theta) \\\\ \\cos(\\theta) \\end{bmatrix} v_2.\n",
    "\\end{align*}\n"
   ]
  },
  {
   "cell_type": "markdown",
   "metadata": {
    "slideshow": {
     "slide_type": "slide"
    }
   },
   "source": [
    "With $\\theta = \\frac{\\pi}{4}$ and $v = \\begin{bmatrix} 1 \\\\ 0 \\end{bmatrix}$, we have\n",
    "\\begin{align*}\n",
    "    u = \\begin{bmatrix} \\cos(\\frac{\\pi}{4}) & -\\sin(\\frac{\\pi}{4}) \\\\ \\sin(\\frac{\\pi}{4}) & \\cos(\\frac{\\pi}{4}) \\end{bmatrix} \\begin{bmatrix} 1 \\\\ 0 \\end{bmatrix} = \\begin{bmatrix} 0.7071 \\cdot 1 - 0.7071 \\cdot 0 \\\\ 0.7071 \\cdot 1 + 0.7071 \\cdot 0 \\end{bmatrix} = \\begin{bmatrix} 0.7071 \\\\ 0.7071 \\end{bmatrix} 1 + \\begin{bmatrix} -0.7071 \\\\ 0.7071 \\end{bmatrix} 0 = \\begin{bmatrix} 0.7071 \\\\ 0.7071 \\end{bmatrix}.\n",
    "\\end{align*}"
   ]
  },
  {
   "cell_type": "markdown",
   "metadata": {
    "slideshow": {
     "slide_type": "slide"
    }
   },
   "source": [
    "# Rotation\n",
    "\n",
    "### Learning Objectives\n",
    "- 2D and 3D rotation matrices as linear transformations.\n",
    "- Righ-hand rule to rotate about an axis."
   ]
  },
  {
   "cell_type": "markdown",
   "metadata": {
    "slideshow": {
     "slide_type": "slide"
    }
   },
   "source": [
    "### Outcomes\n",
    "- Understanding the relationship between rotation matrices and coordinate frames.\n",
    "- A common 2D and 3D rotation convention."
   ]
  },
  {
   "cell_type": "markdown",
   "metadata": {
    "slideshow": {
     "slide_type": "slide"
    }
   },
   "source": [
    "### [Rotation](https://en.wikipedia.org/wiki/Rotation) \n",
    "\n",
    "A rotation is a circular movement of an object around a center (or point) of rotation. A three-dimensional object can always be rotated about an infinite number of imaginary lines called rotation axis.\n",
    "\n",
    "![A sphere rotating about an axis](https://upload.wikimedia.org/wikipedia/commons/0/02/Rotating_Sphere.gif)"
   ]
  },
  {
   "cell_type": "markdown",
   "metadata": {
    "slideshow": {
     "slide_type": "slide"
    }
   },
   "source": [
    "First, let's derive the 2D rotation matrix using what we have learned so far and some basic trigonometry. Consider the unit vectors of the 2D plane\n",
    "\\begin{equation*}\n",
    "    e_1 = \\begin{bmatrix} 1 \\\\ 0 \\end{bmatrix}, \\quad e_2 = \\begin{bmatrix} 0 \\\\ 1 \\end{bmatrix},\n",
    "\\end{equation*}\n",
    "\n",
    "<img src=\"https://github.com/kjbiener/introToJulia/blob/master/2d_univec.png?raw=true\" alt=\"2D unit vectors\" width=\"450\">"
   ]
  },
  {
   "cell_type": "code",
   "execution_count": 21,
   "metadata": {
    "slideshow": {
     "slide_type": "slide"
    }
   },
   "outputs": [
    {
     "data": {
      "image/png": "[encoded data removed]",
      "text/plain": [
       "<Figure size 432x288 with 1 Axes>"
      ]
     },
     "metadata": {
      "needs_background": "light"
     },
     "output_type": "display_data"
    }
   ],
   "source": [
    "e1 = np.array([1, 0])\n",
    "e2 = np.array([0, 1])\n",
    "E = np.column_stack((e1, e2))\n",
    "\n",
    "x0, y0 = 0, 0\n",
    "\n",
    "plt.quiver([x0, x0], [y0, y0], E[0,:], E[1,:], angles='xy', scale_units='xy', scale=1, width=0.015)\n",
    "plt.xlim(-1, 2)\n",
    "plt.ylim(-1, 2)\n",
    "plt.grid()\n",
    "plt.gca().set_aspect('equal', adjustable='box')\n",
    "\n",
    "plt.title('Basis Vectors')\n",
    "plt.show()"
   ]
  },
  {
   "cell_type": "markdown",
   "metadata": {
    "slideshow": {
     "slide_type": "slide"
    }
   },
   "source": [
    "We rotate $e_1$ and $e_2$ by an arbitrary angle $\\theta$. Note that $e_1$ and $e_2$ remain perpendicular. The results are two new unit vectors, $e'_1$ and $e'_2$, shown in red.\n",
    "\n",
    "<img src=\"https://github.com/kjbiener/introToJulia/blob/master/rotated_2d_univec.png?raw=true\" alt=\"Rotated 2D unit vectors\" width=\"450\">\n",
    "\n",
    "**Problem:** We wish to find the mapping $(e_1, e_2) \\mapsto (e'_1,e'_2)$ and a matrix representation of it."
   ]
  },
  {
   "cell_type": "code",
   "execution_count": 22,
   "metadata": {
    "slideshow": {
     "slide_type": "slide"
    }
   },
   "outputs": [
    {
     "data": {
      "image/png": "[encoded data removed]",
      "text/plain": [
       "<Figure size 432x288 with 1 Axes>"
      ]
     },
     "metadata": {
      "needs_background": "light"
     },
     "output_type": "display_data"
    }
   ],
   "source": [
    "theta = np.pi / 4  # 45 degree rotation\n",
    "\n",
    "# 2D rotation matrix\n",
    "R = np.array([[np.cos(theta), -np.sin(theta)], \n",
    "              [np.sin(theta), np.cos(theta)]])\n",
    "\n",
    "e1 = np.array([1, 0])\n",
    "e2 = np.array([0, 1])\n",
    "E = np.column_stack((e1, e2))  # basis vectors\n",
    "\n",
    "V = np.dot(R, E)  # rotated vectors\n",
    "\n",
    "# Original vectors \n",
    "plt.quiver([0, 0], [0, 0], E[0,:], E[1,:], angles='xy', scale_units='xy', scale=1, color = 'b', width=0.015)\n",
    "\n",
    "# Rotated vectors\n",
    "plt.quiver([0, 0], [0, 0], V[0,:], V[1,:], angles='xy', scale_units='xy', scale=1, color = 'r', width=0.015)\n",
    "\n",
    "plt.xlim(-1, 2)\n",
    "plt.ylim(-1, 2)\n",
    "plt.grid()\n",
    "plt.gca().set_aspect('equal', adjustable='box')\n",
    "\n",
    "plt.title('Basis Vectors and Rotated Vectors')\n",
    "plt.show()"
   ]
  },
  {
   "cell_type": "markdown",
   "metadata": {
    "slideshow": {
     "slide_type": "notes"
    }
   },
   "source": [
    "**Problem:** We wish to find the mapping $(e_1, e_2) \\mapsto (e'_1,e'_2)$ and a matrix representation of it.\n",
    "\n",
    "<img src=\"https://upload.wikimedia.org/wikipedia/commons/9/9f/Rotation_of_coordinates.svg\" alt=\"Rotated 2D unit vectors\" width=\"350\">"
   ]
  },
  {
   "cell_type": "markdown",
   "metadata": {
    "slideshow": {
     "slide_type": "slide"
    }
   },
   "source": [
    "We recognize that $e'_1$ and $e'_2$ vectors in the blue coordinates can be expressed as \n",
    "\\begin{equation*}\n",
    "    e'_1 = \\begin{bmatrix} \\cos(\\theta) \\\\ \\sin(\\theta) \\end{bmatrix}, \\quad e'_2 = \\begin{bmatrix} -\\sin(\\theta) \\\\ \\cos(\\theta) \\end{bmatrix}.\n",
    "\\end{equation*}\n",
    "\n",
    "We learn that any vector (or point) in the red coordinates can be expressed as a linear combinations of $e'_1$ and $e'_2$. This is analogous to using $e_1$ and $e_2$ as *basis* for the blue *coordinate frame*. "
   ]
  },
  {
   "cell_type": "markdown",
   "metadata": {
    "slideshow": {
     "slide_type": "fragment"
    }
   },
   "source": [
    "**Remark:** This way of finding the solution by using a linear combinations of different *dimensions (here each unit vector as a basis)* is a fundamental property of linear maps and is called [*superposition*](https://en.wikipedia.org/wiki/Superposition_principle)."
   ]
  },
  {
   "cell_type": "markdown",
   "metadata": {
    "slideshow": {
     "slide_type": "slide"
    }
   },
   "source": [
    "In other words, let $v = \\begin{bmatrix} v_1 \\\\ v_2 \\end{bmatrix} = v_1 e'_1 + v_2 e'_2$ and $v' = \\begin{bmatrix} v'_1 \\\\ v'_2 \\end{bmatrix} = v'_1 e_1 + v'_2 e_2 = v_1 e'_1 + v_2 e'_2$. \n",
    "\n",
    "We learn that\n",
    "\\begin{align*}\n",
    "    v'_1 = v_1 \\cos(\\theta) - v_2 \\sin(\\theta), \\\\\n",
    "    v'_2 = v_1 \\sin(\\theta) + v_2 \\cos(\\theta).\n",
    "\\end{align*}"
   ]
  },
  {
   "cell_type": "markdown",
   "metadata": {
    "slideshow": {
     "slide_type": "slide"
    }
   },
   "source": [
    "We are now one step away from deriving the 2D rotation matrix. We proceed as follows:\n",
    "\n",
    "$$\n",
    "v' = \\begin{bmatrix} v'_1 \\\\ v'_2 \\end{bmatrix} = \\begin{bmatrix} v_1 \\cos(\\theta) - v_2 \\sin(\\theta) \\\\ v_1 \\sin(\\theta) + v_2 \\cos(\\theta) \\end{bmatrix} = \\begin{bmatrix} \\cos(\\theta) & -\\sin(\\theta) \\\\ \\sin(\\theta) & \\cos(\\theta) \\end{bmatrix} \\begin{bmatrix} v_1 \\\\ v_2 \\end{bmatrix},\n",
    "$$\n",
    "\n",
    "thus, we proved that\n",
    "\n",
    "$$\n",
    "v' = Rv,\n",
    "$$\n",
    "\n",
    "where we define\n",
    "\n",
    "$$\n",
    "R := \\begin{bmatrix} \\cos(\\theta) & -\\sin(\\theta) \\\\ \\sin(\\theta) & \\cos(\\theta) \\end{bmatrix}.\n",
    "$$\n"
   ]
  },
  {
   "cell_type": "markdown",
   "metadata": {
    "slideshow": {
     "slide_type": "slide"
    }
   },
   "source": [
    "We are now one step away from deriving the 2D rotation matrix. We proceed as follows.\n",
    "\n",
    "<img src=\"https://upload.wikimedia.org/wikipedia/commons/thumb/3/34/Right-hand_grip_rule.svg/340px-Right-hand_grip_rule.svg.png\" alt=\"Right-hand grip rule\" width=\"200\">"
   ]
  },
  {
   "cell_type": "markdown",
   "metadata": {
    "slideshow": {
     "slide_type": "slide"
    }
   },
   "source": [
    "### [Circle group](https://en.wikipedia.org/wiki/Circle_group)\n",
    "\n",
    "What are the transformations that leave the circle unchanged?\n",
    "\n",
    "Multiplication on the circle group is equivalent to addition of angles. \n",
    "<img src=\"https://upload.wikimedia.org/wikipedia/commons/a/aa/Circle-group.svg\" alt=\"Circle\" width=\"200\">\n",
    "\n",
    "$e^{i\\theta} = \\cos(\\theta) + i \\sin(\\theta) \\leftrightarrow \\begin{bmatrix} \\cos(\\theta) & -\\sin(\\theta) \\\\ \\sin(\\theta) & \\cos(\\theta) \\end{bmatrix} = R(\\theta)$"
   ]
  },
  {
   "cell_type": "markdown",
   "metadata": {
    "slideshow": {
     "slide_type": "slide"
    }
   },
   "source": [
    "<img src=\"https://upload.wikimedia.org/wikipedia/commons/c/c1/Yaw_Axis_Corrected.svg\" alt=\"RPY\" width=\"400\">\n",
    "\n",
    "<img src=\"https://upload.wikimedia.org/wikipedia/commons/7/7d/Roll_pitch_yaw_mnemonic.svg\" alt=\"Euler angles\" width=\"350\">"
   ]
  },
  {
   "cell_type": "markdown",
   "metadata": {
    "slideshow": {
     "slide_type": "slide"
    }
   },
   "source": [
    "**Quiz:** Prove that the 3D rotation about $z$ axis in $\\mathbb{R}^3$ is indeed (notice its similarity with the 2D rotation matrix)\n",
    "\n",
    "\\begin{equation*}\n",
    "    R_z = \\begin{bmatrix} \\cos(\\gamma) & -\\sin(\\gamma) & 0 \\\\ \\sin(\\gamma) & \\cos(\\gamma) & 0 \\\\ 0 & 0 & 1 \\end{bmatrix}.\n",
    "\\end{equation*}"
   ]
  },
  {
   "cell_type": "markdown",
   "metadata": {
    "slideshow": {
     "slide_type": "slide"
    }
   },
   "source": [
    "**Answer:** \n",
    "\n",
    "In the 3D space, we can define the unit vectors along $x$,$y$, and $z$ axes, respectively, as\n",
    "\\begin{equation*}\n",
    "    e_1 = \\begin{bmatrix} 1 \\\\ 0 \\\\ 0 \\end{bmatrix}, \\quad e_2 = \\begin{bmatrix} 0 \\\\ 1 \\\\ 0 \\end{bmatrix}, \\quad e_3 = \\begin{bmatrix} 0 \\\\ 0 \\\\ 1 \\end{bmatrix}.\n",
    "\\end{equation*}\n",
    "\n",
    "Similar to the 2D case, we recognize that after a $\\gamma$ (the angle) rotation about $z$ axis we have $e'_1$, $e'_2$, and $e'_3$ vectors can be expressed as \n",
    "\\begin{equation*}\n",
    "    e'_1 = \\begin{bmatrix} \\cos(\\gamma) \\\\ \\sin(\\gamma) \\\\ 0 \\end{bmatrix}, \\quad e'_2 = \\begin{bmatrix} -\\sin(\\gamma) \\\\ \\cos(\\gamma) \\\\ 0 \\end{bmatrix}, \\quad e'_3 = \\begin{bmatrix} 0 \\\\ 0 \\\\ 1 \\end{bmatrix}.\n",
    "\\end{equation*}\n",
    "\n",
    "We note that $e'_3 = e_3$ since it is the *axis of rotation*. "
   ]
  },
  {
   "cell_type": "markdown",
   "metadata": {
    "slideshow": {
     "slide_type": "slide"
    }
   },
   "source": [
    "Let $v = \\begin{bmatrix} v_1 \\\\ v_2 \\\\ v_3 \\end{bmatrix} = v_1 e'_1 + v_2 e'_2 + v_3 e'_3$ be a vector in the rotated basis, then its equivalent in the standard basis is $v' = \\begin{bmatrix} v'_1 \\\\ v'_2 \\\\ v'_3 \\end{bmatrix} = v'_1 e_1 + v'_2 e_2 + v'_3 e_3 = v_1 e'_1 + v_2 e'_2 + v_3 e'_3$. This equality leads to\n",
    "\\begin{equation*}\n",
    "    \\boxed{\\begin{bmatrix} v'_1 \\\\ v'_2 \\\\ v'_3 \\end{bmatrix} = \\begin{bmatrix} \\cos(\\gamma) & -\\sin(\\gamma) & 0 \\\\ \\sin(\\gamma) & \\cos(\\gamma) & 0 \\\\ 0 & 0 & 1 \\end{bmatrix} \\begin{bmatrix} v_1 \\\\ v_2 \\\\ v_3 \\end{bmatrix}}.\n",
    "\\end{equation*}\n",
    "$$\n",
    "R_z := \\boxed{\\begin{bmatrix} \\cos(\\gamma) & -\\sin(\\gamma) & 0 \\\\ \\sin(\\gamma) & \\cos(\\gamma) & 0 \\\\ 0 & 0 & 1 \\end{bmatrix}}.\n",
    "$$\n"
   ]
  },
  {
   "cell_type": "markdown",
   "metadata": {
    "slideshow": {
     "slide_type": "slide"
    }
   },
   "source": [
    "**Quiz:** Derive 3D rotation matrices about $y$ and $x$ axes in $\\mathbb{R^3}$.\n",
    "\\begin{equation*}\n",
    "    R_y = \\begin{bmatrix} \\cos(\\beta) & 0 & \\sin(\\beta) \\\\ 0 & 1 & 0 \\\\ -\\sin(\\beta) & 0 & \\cos(\\beta) \\end{bmatrix},\n",
    "\\end{equation*}\n",
    "$$\n",
    "    R_x = \\begin{bmatrix} 1 & 0 & 0 \\\\ 0 & \\cos(\\alpha) & -\\sin(\\alpha) \\\\ 0 & \\sin(\\alpha) & \\cos(\\alpha) \\end{bmatrix}.\n",
    "$$"
   ]
  },
  {
   "cell_type": "markdown",
   "metadata": {
    "slideshow": {
     "slide_type": "slide"
    }
   },
   "source": [
    "# Affine Transformation\n",
    "\n",
    "### Learning Objectives\n",
    "- Affine transformations.\n",
    "- Difference between linear and affine transformations."
   ]
  },
  {
   "cell_type": "markdown",
   "metadata": {
    "slideshow": {
     "slide_type": "slide"
    }
   },
   "source": [
    "### Outcomes\n",
    "- Affine transformation of a vector.\n",
    "- Rigid body transformation."
   ]
  },
  {
   "cell_type": "markdown",
   "metadata": {
    "slideshow": {
     "slide_type": "slide"
    }
   },
   "source": [
    "### [Affine Transformation](https://en.wikipedia.org/wiki/Affine_transformation) \n",
    "\n",
    "So far, we have learned about linear transformations. We also learned that translation is not a linear transformation. We now look into another important class of transformations called *affine transformations*."
   ]
  },
  {
   "cell_type": "markdown",
   "metadata": {
    "slideshow": {
     "slide_type": "fragment"
    }
   },
   "source": [
    "An affine transformation in simple words is a combination of a linear transformation and translation."
   ]
  },
  {
   "cell_type": "markdown",
   "metadata": {
    "slideshow": {
     "slide_type": "slide"
    }
   },
   "source": [
    "- Suppose $A$ is linear transformation and $t$ is a vector. Then the affine transformation of a vector (or point) is $y = A x + t$. "
   ]
  },
  {
   "cell_type": "markdown",
   "metadata": {
    "slideshow": {
     "slide_type": "fragment"
    }
   },
   "source": [
    "- A particular affine transformation that combines rotation and translation is called a *rigid body transformation*. As the name implies, objects that go through a rigid body transformation remain *rigid*. This means, for example, no scaling, shear, or deformation and the distance between every pair of points remain the same. "
   ]
  },
  {
   "cell_type": "markdown",
   "metadata": {
    "slideshow": {
     "slide_type": "slide"
    }
   },
   "source": [
    "**Example:** To understand the concept of a rigid body transformation better, we will code an example. We will build a pyramid first. Then we will rotate and translate it in the 3D Cartesian coordinate frame. If we consider a pyramid as a combination of five points connected with lines, we get the following shape.\n",
    "\n",
    "![pyramid.png](https://i.postimg.cc/90XS6GqJ/pyramid.png)"
   ]
  },
  {
   "cell_type": "code",
   "execution_count": 23,
   "metadata": {},
   "outputs": [
    {
     "ename": "NotImplementedError",
     "evalue": "Axes3D currently only supports the aspect argument 'auto'. You passed in 'equal'.",
     "output_type": "error",
     "traceback": [
      "\u001b[0;31m---------------------------------------------------------------------------\u001b[0m",
      "\u001b[0;31mNotImplementedError\u001b[0m                       Traceback (most recent call last)",
      "\u001b[0;32m<ipython-input-23-7b829a56a801>\u001b[0m in \u001b[0;36m<module>\u001b[0;34m\u001b[0m\n\u001b[1;32m     17\u001b[0m \u001b[0;34m\u001b[0m\u001b[0m\n\u001b[1;32m     18\u001b[0m \u001b[0max\u001b[0m\u001b[0;34m.\u001b[0m\u001b[0mset_title\u001b[0m\u001b[0;34m(\u001b[0m\u001b[0;34m'A Pyramid'\u001b[0m\u001b[0;34m)\u001b[0m\u001b[0;34m\u001b[0m\u001b[0;34m\u001b[0m\u001b[0m\n\u001b[0;32m---> 19\u001b[0;31m \u001b[0mplt\u001b[0m\u001b[0;34m.\u001b[0m\u001b[0mgca\u001b[0m\u001b[0;34m(\u001b[0m\u001b[0;34m)\u001b[0m\u001b[0;34m.\u001b[0m\u001b[0mset_aspect\u001b[0m\u001b[0;34m(\u001b[0m\u001b[0;34m'equal'\u001b[0m\u001b[0;34m,\u001b[0m \u001b[0madjustable\u001b[0m\u001b[0;34m=\u001b[0m\u001b[0;34m'box'\u001b[0m\u001b[0;34m)\u001b[0m\u001b[0;34m\u001b[0m\u001b[0;34m\u001b[0m\u001b[0m\n\u001b[0m\u001b[1;32m     20\u001b[0m \u001b[0;34m\u001b[0m\u001b[0m\n\u001b[1;32m     21\u001b[0m \u001b[0mplt\u001b[0m\u001b[0;34m.\u001b[0m\u001b[0mshow\u001b[0m\u001b[0;34m(\u001b[0m\u001b[0;34m)\u001b[0m\u001b[0;34m\u001b[0m\u001b[0;34m\u001b[0m\u001b[0m\n",
      "\u001b[0;32m~/opt/anaconda3/lib/python3.8/site-packages/mpl_toolkits/mplot3d/axes3d.py\u001b[0m in \u001b[0;36mset_aspect\u001b[0;34m(self, aspect, adjustable, anchor, share)\u001b[0m\n\u001b[1;32m    321\u001b[0m         \"\"\"\n\u001b[1;32m    322\u001b[0m         \u001b[0;32mif\u001b[0m \u001b[0maspect\u001b[0m \u001b[0;34m!=\u001b[0m \u001b[0;34m'auto'\u001b[0m\u001b[0;34m:\u001b[0m\u001b[0;34m\u001b[0m\u001b[0;34m\u001b[0m\u001b[0m\n\u001b[0;32m--> 323\u001b[0;31m             raise NotImplementedError(\n\u001b[0m\u001b[1;32m    324\u001b[0m                 \u001b[0;34m\"Axes3D currently only supports the aspect argument \"\u001b[0m\u001b[0;34m\u001b[0m\u001b[0;34m\u001b[0m\u001b[0m\n\u001b[1;32m    325\u001b[0m                 \u001b[0;34mf\"'auto'. You passed in {aspect!r}.\"\u001b[0m\u001b[0;34m\u001b[0m\u001b[0;34m\u001b[0m\u001b[0m\n",
      "\u001b[0;31mNotImplementedError\u001b[0m: Axes3D currently only supports the aspect argument 'auto'. You passed in 'equal'."
     ]
    },
    {
     "data": {
      "image/png": "[encoded data removed]",
      "text/plain": [
       "<Figure size 432x288 with 1 Axes>"
      ]
     },
     "metadata": {
      "needs_background": "light"
     },
     "output_type": "display_data"
    }
   ],
   "source": [
    "# 3D coordinates\n",
    "x = np.array([0, 0, 1, 1, 0, 0.5])\n",
    "y = np.array([0, 1, 1, 0, 1, 0.5])\n",
    "z = np.array([0, 0, 0, 0, 0, 1])\n",
    "E = np.vstack([x,y,z])\n",
    "\n",
    "fig = plt.figure()\n",
    "ax = fig.add_subplot(111, projection='3d')\n",
    "\n",
    "# Plot scatter\n",
    "ax.scatter(E[0,:], E[1,:], E[2,:])\n",
    "\n",
    "# Add lines\n",
    "for i in range(E.shape[1]):\n",
    "    for j in range(i+1, E.shape[1]):\n",
    "        ax.plot(E[0, [i, j]], E[1, [i, j]], E[2, [i, j]],'blue')\n",
    "\n",
    "ax.set_title('A Pyramid')\n",
    "plt.gca().set_aspect('equal', adjustable='box')\n",
    "\n",
    "plt.show()"
   ]
  },
  {
   "cell_type": "markdown",
   "metadata": {
    "slideshow": {
     "slide_type": "slide"
    }
   },
   "source": [
    "Next, we apply the following transformation to all five points and visualize the results. \n",
    "\\begin{equation*}\n",
    "    R = \\begin{bmatrix} 1 & 0 & 0 \\\\ 0 & \\cos(\\alpha) & -\\sin(\\alpha) \\\\ 0 & \\sin(\\alpha) & \\cos(\\alpha) \\end{bmatrix}, \\quad t = \\begin{bmatrix} 0.5 \\\\ 0.75 \\\\ 1 \\end{bmatrix}. \n",
    "\\end{equation*}\n",
    "\n",
    "We set $\\alpha = \\frac{\\pi}{4}$. As expected we have rotated the pyramid by $\\frac{\\pi}{4}$ about $x$ axis and translated it by $t$.\n",
    "\n",
    "\n",
    "\n",
    "![pyramid-transformed.png](https://i.postimg.cc/tgHr0hKW/pyramid-transformed.png)"
   ]
  },
  {
   "cell_type": "code",
   "execution_count": null,
   "metadata": {
    "slideshow": {
     "slide_type": "slide"
    }
   },
   "outputs": [
    {
     "ename": "NotImplementedError",
     "evalue": "Axes3D currently only supports the aspect argument 'auto'. You passed in 'equal'.",
     "output_type": "error",
     "traceback": [
      "\u001b[0;31m---------------------------------------------------------------------------\u001b[0m",
      "\u001b[0;31mNotImplementedError\u001b[0m                       Traceback (most recent call last)",
      "\u001b[0;32m<ipython-input-15-72310d3b0160>\u001b[0m in \u001b[0;36m<module>\u001b[0;34m\u001b[0m\n\u001b[1;32m     28\u001b[0m \u001b[0;34m\u001b[0m\u001b[0m\n\u001b[1;32m     29\u001b[0m \u001b[0max\u001b[0m\u001b[0;34m.\u001b[0m\u001b[0mset_title\u001b[0m\u001b[0;34m(\u001b[0m\u001b[0;34m'Original and Transformed Pyramid'\u001b[0m\u001b[0;34m)\u001b[0m\u001b[0;34m\u001b[0m\u001b[0;34m\u001b[0m\u001b[0m\n\u001b[0;32m---> 30\u001b[0;31m \u001b[0mplt\u001b[0m\u001b[0;34m.\u001b[0m\u001b[0mgca\u001b[0m\u001b[0;34m(\u001b[0m\u001b[0;34m)\u001b[0m\u001b[0;34m.\u001b[0m\u001b[0mset_aspect\u001b[0m\u001b[0;34m(\u001b[0m\u001b[0;34m'equal'\u001b[0m\u001b[0;34m,\u001b[0m \u001b[0madjustable\u001b[0m\u001b[0;34m=\u001b[0m\u001b[0;34m'box'\u001b[0m\u001b[0;34m)\u001b[0m\u001b[0;34m\u001b[0m\u001b[0;34m\u001b[0m\u001b[0m\n\u001b[0m\u001b[1;32m     31\u001b[0m \u001b[0;34m\u001b[0m\u001b[0m\n\u001b[1;32m     32\u001b[0m \u001b[0mplt\u001b[0m\u001b[0;34m.\u001b[0m\u001b[0mshow\u001b[0m\u001b[0;34m(\u001b[0m\u001b[0;34m)\u001b[0m\u001b[0;34m\u001b[0m\u001b[0;34m\u001b[0m\u001b[0m\n",
      "\u001b[0;32m~/opt/anaconda3/lib/python3.8/site-packages/mpl_toolkits/mplot3d/axes3d.py\u001b[0m in \u001b[0;36mset_aspect\u001b[0;34m(self, aspect, adjustable, anchor, share)\u001b[0m\n\u001b[1;32m    321\u001b[0m         \"\"\"\n\u001b[1;32m    322\u001b[0m         \u001b[0;32mif\u001b[0m \u001b[0maspect\u001b[0m \u001b[0;34m!=\u001b[0m \u001b[0;34m'auto'\u001b[0m\u001b[0;34m:\u001b[0m\u001b[0;34m\u001b[0m\u001b[0;34m\u001b[0m\u001b[0m\n\u001b[0;32m--> 323\u001b[0;31m             raise NotImplementedError(\n\u001b[0m\u001b[1;32m    324\u001b[0m                 \u001b[0;34m\"Axes3D currently only supports the aspect argument \"\u001b[0m\u001b[0;34m\u001b[0m\u001b[0;34m\u001b[0m\u001b[0m\n\u001b[1;32m    325\u001b[0m                 \u001b[0;34mf\"'auto'. You passed in {aspect!r}.\"\u001b[0m\u001b[0;34m\u001b[0m\u001b[0;34m\u001b[0m\u001b[0m\n",
      "\u001b[0;31mNotImplementedError\u001b[0m: Axes3D currently only supports the aspect argument 'auto'. You passed in 'equal'."
     ]
    },
    {
     "data": {
      "image/png": "[encoded data removed]",
      "text/plain": [
       "<Figure size 432x288 with 1 Axes>"
      ]
     },
     "metadata": {
      "needs_background": "light"
     },
     "output_type": "display_data"
    }
   ],
   "source": [
    "alpha = np.pi / 4\n",
    "R = np.array([[1, 0, 0], \n",
    "              [0, np.cos(alpha), -np.sin(alpha)], \n",
    "              [0, np.sin(alpha), np.cos(alpha)]])\n",
    "t = np.array([[0.5], [0.75], [1]])\n",
    "\n",
    "x = np.array([0, 0, 1, 1, 0, 0.5])\n",
    "y = np.array([0, 1, 1, 0, 1, 0.5])\n",
    "z = np.array([0, 0, 0, 0, 0, 1])\n",
    "E = np.vstack([x, y, z])\n",
    "\n",
    "E2 = np.dot(R, E) + t \n",
    "\n",
    "fig = plt.figure()\n",
    "ax = fig.add_subplot(111, projection='3d')\n",
    "\n",
    "# Plot original pyramid\n",
    "ax.scatter(E[0,:], E[1,:], E[2,:], color='blue')\n",
    "for i in range(E.shape[1]):\n",
    "    for j in range(i+1, E.shape[1]):\n",
    "        ax.plot(E[0, [i, j]], E[1, [i, j]], E[2, [i, j]],'blue')\n",
    "\n",
    "# Plot transformed pyramid\n",
    "ax.scatter(E2[0,:], E2[1,:], E2[2,:], color='red')\n",
    "for i in range(E2.shape[1]):\n",
    "    for j in range(i+1, E2.shape[1]):\n",
    "        ax.plot(E2[0, [i, j]], E2[1, [i, j]], E2[2, [i, j]],'red')\n",
    "\n",
    "ax.set_title('Original and Transformed Pyramid')\n",
    "plt.gca().set_aspect('equal', adjustable='box')\n",
    "\n",
    "plt.show()"
   ]
  },
  {
   "cell_type": "markdown",
   "metadata": {
    "slideshow": {
     "slide_type": "slide"
    }
   },
   "source": [
    "Things we do with transformations on UMich North Campus!\n",
    "\n",
    "[![InEKF LiDAR Mapping](https://i.imgur.com/BwtIepo.jpg)](https://www.youtube.com/watch?v=pNyXsZ5zVZk)"
   ]
  }
 ],
 "metadata": {
  "celltoolbar": "Slideshow",
  "kernelspec": {
   "display_name": "Python 3 (ipykernel)",
   "language": "python",
   "name": "python3"
  },
  "language_info": {
   "codemirror_mode": {
    "name": "ipython",
    "version": 3
   },
   "file_extension": ".py",
   "mimetype": "text/x-python",
   "name": "python",
   "nbconvert_exporter": "python",
   "pygments_lexer": "ipython3",
   "version": "3.8.8"
  }
 },
 "nbformat": 4,
 "nbformat_minor": 4
}
